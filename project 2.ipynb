{
 "cells": [
  {
   "cell_type": "code",
   "execution_count": 2,
   "id": "9bce085a",
   "metadata": {},
   "outputs": [
    {
     "name": "stdout",
     "output_type": "stream",
     "text": [
      "Email sent successfully!\n"
     ]
    }
   ],
   "source": [
    "import smtplib, ssl\n",
    "\n",
    "def send_email(receiver_email, subject, body):\n",
    "    smtp_server = \"smtp.gmail.com\"\n",
    "    port = 465  # For SSL\n",
    "    sender_email = \"michaelparrott323@gmail.com\"  # Enter your address\n",
    "    password = \"oaxb nhce nige xdoj\"\n",
    "\n",
    "    # Create a secure SSL context\n",
    "    context = ssl.create_default_context()\n",
    "\n",
    "    message = f\"\"\"\\\n",
    "    Subject: {subject}\n",
    "\n",
    "    {body}\n",
    "    \"\"\"\n",
    "\n",
    "    try:\n",
    "        with smtplib.SMTP_SSL(smtp_server, port, context=context) as server:\n",
    "            server.login(sender_email, password)\n",
    "            server.sendmail(sender_email, receiver_email, message)\n",
    "        print(\"Email sent successfully!\")\n",
    "    except Exception as e:\n",
    "        print(f\"Error: {e}\")\n",
    "\n",
    "# Example usage\n",
    "send_email(\"karemimichael@gmail.com\", \"Welcome!\", \"Welcome to our app, [karemi]!\")\n"
   ]
  },
  {
   "cell_type": "code",
   "execution_count": 9,
   "id": "5bb705d3",
   "metadata": {},
   "outputs": [
    {
     "name": "stdout",
     "output_type": "stream",
     "text": [
      "Enter your username: user3\n",
      "Enter your password: ········\n",
      "Access granted\n"
     ]
    }
   ],
   "source": [
    "import getpass\n",
    "\n",
    "# Step 1: Create a dictionary of usernames with their passwords\n",
    "users = {\n",
    "    \"user1\": \"password1\",\n",
    "    \"user2\": \"password2\",\n",
    "    \"user3\": \"password3\"\n",
    "}\n",
    "\n",
    "# Step 2: Ask for user input as the username\n",
    "username = input(\"Enter your username: \")\n",
    "\n",
    "# Step 3: Use the getpass module for password input\n",
    "password = getpass.getpass(\"Enter your password: \")\n",
    "\n",
    "# Authenticate user\n",
    "if username in users and users[username] == password:\n",
    "    print(\"Access granted\")\n",
    "else:\n",
    "    print(\"Access denied\")\n"
   ]
  },
  {
   "cell_type": "code",
   "execution_count": null,
   "id": "4115b0f7",
   "metadata": {},
   "outputs": [],
   "source": []
  }
 ],
 "metadata": {
  "kernelspec": {
   "display_name": "Python 3 (ipykernel)",
   "language": "python",
   "name": "python3"
  },
  "language_info": {
   "codemirror_mode": {
    "name": "ipython",
    "version": 3
   },
   "file_extension": ".py",
   "mimetype": "text/x-python",
   "name": "python",
   "nbconvert_exporter": "python",
   "pygments_lexer": "ipython3",
   "version": "3.11.5"
  }
 },
 "nbformat": 4,
 "nbformat_minor": 5
}
